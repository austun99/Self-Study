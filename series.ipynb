{
 "cells": [
  {
   "cell_type": "markdown",
   "id": "b2378bca",
   "metadata": {},
   "source": [
    " ### Series"
   ]
  },
  {
   "cell_type": "code",
   "execution_count": 1,
   "id": "ff24a794",
   "metadata": {},
   "outputs": [],
   "source": [
    "import pandas as pd"
   ]
  },
  {
   "cell_type": "code",
   "execution_count": 9,
   "id": "6ebb0e70",
   "metadata": {},
   "outputs": [
    {
     "data": {
      "text/plain": [
       "0    12\n",
       "1     9\n",
       "2     8\n",
       "dtype: int64"
      ]
     },
     "execution_count": 9,
     "metadata": {},
     "output_type": "execute_result"
    }
   ],
   "source": [
    "#creating a list\n",
    "l = [12,9,8]\n",
    "\n",
    "s1 = pd.Series(l)\n",
    "\n",
    "#series convert any list into a table data set\n",
    "s1"
   ]
  },
  {
   "cell_type": "code",
   "execution_count": 11,
   "id": "d756cdfd",
   "metadata": {},
   "outputs": [
    {
     "data": {
      "text/plain": [
       "a    12\n",
       "b     9\n",
       "c     8\n",
       "dtype: int64"
      ]
     },
     "execution_count": 11,
     "metadata": {},
     "output_type": "execute_result"
    }
   ],
   "source": [
    "#creating a list\n",
    "l = [12,9,8]\n",
    "\n",
    "#we can also assign an index to each of the values in the list\n",
    "s1 = pd.Series(l, index = ['a','b','c'])\n",
    "\n",
    "#series convert any list into a table data set\n",
    "s1"
   ]
  },
  {
   "cell_type": "code",
   "execution_count": 18,
   "id": "070a96b7",
   "metadata": {},
   "outputs": [
    {
     "data": {
      "text/plain": [
       "a    12\n",
       "b     9\n",
       "c    10\n",
       "dtype: int64"
      ]
     },
     "execution_count": 18,
     "metadata": {},
     "output_type": "execute_result"
    }
   ],
   "source": [
    "#just a different way of doing the same thing as above\n",
    "#here it was not need to assign indexes using Series function\n",
    "\n",
    "d = {'a': 12, 'b': 9, 'c': 10}\n",
    "d\n",
    "\n",
    "s2 = pd.Series(d)\n",
    "\n",
    "s2"
   ]
  },
  {
   "cell_type": "code",
   "execution_count": null,
   "id": "fc933022",
   "metadata": {},
   "outputs": [],
   "source": []
  }
 ],
 "metadata": {
  "kernelspec": {
   "display_name": "Python 3 (ipykernel)",
   "language": "python",
   "name": "python3"
  },
  "language_info": {
   "codemirror_mode": {
    "name": "ipython",
    "version": 3
   },
   "file_extension": ".py",
   "mimetype": "text/x-python",
   "name": "python",
   "nbconvert_exporter": "python",
   "pygments_lexer": "ipython3",
   "version": "3.9.7"
  }
 },
 "nbformat": 4,
 "nbformat_minor": 5
}
