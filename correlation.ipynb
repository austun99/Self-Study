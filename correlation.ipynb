{
 "cells": [
  {
   "cell_type": "markdown",
   "id": "f7f0c1a7",
   "metadata": {},
   "source": [
    "## Correlations"
   ]
  },
  {
   "cell_type": "code",
   "execution_count": 2,
   "id": "f58784ac",
   "metadata": {},
   "outputs": [],
   "source": [
    "import pandas as pd\n",
    "import numpy as np"
   ]
  },
  {
   "cell_type": "code",
   "execution_count": 3,
   "id": "a773e82e",
   "metadata": {},
   "outputs": [],
   "source": [
    "df = pd.read_csv('stolen_vehicles(copy).csv', header=0)"
   ]
  },
  {
   "cell_type": "markdown",
   "id": "80f3b694",
   "metadata": {},
   "source": [
    "To find the correlation of certain columns to others, we will be using the following function\n",
    "- **df.corr()**"
   ]
  },
  {
   "cell_type": "code",
   "execution_count": 4,
   "id": "9b0601f4",
   "metadata": {},
   "outputs": [
    {
     "data": {
      "text/html": [
       "<div>\n",
       "<style scoped>\n",
       "    .dataframe tbody tr th:only-of-type {\n",
       "        vertical-align: middle;\n",
       "    }\n",
       "\n",
       "    .dataframe tbody tr th {\n",
       "        vertical-align: top;\n",
       "    }\n",
       "\n",
       "    .dataframe thead th {\n",
       "        text-align: right;\n",
       "    }\n",
       "</style>\n",
       "<table border=\"1\" class=\"dataframe\">\n",
       "  <thead>\n",
       "    <tr style=\"text-align: right;\">\n",
       "      <th></th>\n",
       "      <th>vehicle_id</th>\n",
       "      <th>model_year</th>\n",
       "      <th>location_id</th>\n",
       "    </tr>\n",
       "  </thead>\n",
       "  <tbody>\n",
       "    <tr>\n",
       "      <th>vehicle_id</th>\n",
       "      <td>1.000000</td>\n",
       "      <td>-0.126646</td>\n",
       "      <td>0.119413</td>\n",
       "    </tr>\n",
       "    <tr>\n",
       "      <th>model_year</th>\n",
       "      <td>-0.126646</td>\n",
       "      <td>1.000000</td>\n",
       "      <td>-0.090206</td>\n",
       "    </tr>\n",
       "    <tr>\n",
       "      <th>location_id</th>\n",
       "      <td>0.119413</td>\n",
       "      <td>-0.090206</td>\n",
       "      <td>1.000000</td>\n",
       "    </tr>\n",
       "  </tbody>\n",
       "</table>\n",
       "</div>"
      ],
      "text/plain": [
       "             vehicle_id  model_year  location_id\n",
       "vehicle_id     1.000000   -0.126646     0.119413\n",
       "model_year    -0.126646    1.000000    -0.090206\n",
       "location_id    0.119413   -0.090206     1.000000"
      ]
     },
     "execution_count": 4,
     "metadata": {},
     "output_type": "execute_result"
    }
   ],
   "source": [
    "df.corr()"
   ]
  },
  {
   "cell_type": "markdown",
   "id": "a5f4ad6b",
   "metadata": {},
   "source": [
    "### Correlation coefficient\n",
    "Correlation coefficient formulas is used to find out how strong a relationship is between data. Ther formulas return a value between -1 and 1, where:\n",
    "- 1 indicates a strong positive relationship\n",
    "- -1 indicates a strong negative relationship\n",
    "- 0 indicates no relationship at all\n",
    "\n",
    "#### Correlation can be seen as either a positive[1]/ negative slope[-1]"
   ]
  },
  {
   "cell_type": "code",
   "execution_count": null,
   "id": "0d4b7718",
   "metadata": {},
   "outputs": [],
   "source": []
  }
 ],
 "metadata": {
  "kernelspec": {
   "display_name": "Python 3 (ipykernel)",
   "language": "python",
   "name": "python3"
  },
  "language_info": {
   "codemirror_mode": {
    "name": "ipython",
    "version": 3
   },
   "file_extension": ".py",
   "mimetype": "text/x-python",
   "name": "python",
   "nbconvert_exporter": "python",
   "pygments_lexer": "ipython3",
   "version": "3.9.7"
  }
 },
 "nbformat": 4,
 "nbformat_minor": 5
}
